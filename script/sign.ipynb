{
 "cells": [
  {
   "cell_type": "code",
   "execution_count": null,
   "metadata": {},
   "outputs": [],
   "source": [
    "import requests\n",
    "\n",
    "def sign(account, roomId):\n",
    "    headers = {\n",
    "     \"Host\":\"libwx.cau.edu.cn\",\n",
    "     \"User-Agent\":f\"Mozilla/5.0 (iPhone; CPU iPhone OS 16_6 like Mac OS X) AppleWebKit/605.1.15 (KHTML, like Gecko) Version/16.6 Mobile/15E148 Safari/604.1 Edg/119.0.0.0\"\n",
    "    }\n",
    "    params = {\n",
    "        \"account\":account,\n",
    "        \"roomId\":roomId\n",
    "    }\n",
    "    response = requests.get(\"http://libwx.cau.edu.cn/space/static/cau/mediaCheckIn\", headers=headers, params=params)\n",
    "    return response\n",
    "\n",
    "roomId = \"bca19acc7ae1497089ceee875925587e\"\n",
    "\n",
    "account = \"4521D610DC9460D22004EC76E32BF7E1\"\n",
    "response = sign(account, roomId)\n",
    "\n",
    "account = \"1B76C8553CB483E5FE0D1BA7E67A88EA\"\n",
    "response = sign(account, roomId)"
   ]
  }
 ],
 "metadata": {
  "language_info": {
   "name": "python"
  }
 },
 "nbformat": 4,
 "nbformat_minor": 2
}
