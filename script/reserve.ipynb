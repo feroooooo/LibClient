{
 "cells": [
  {
   "cell_type": "code",
   "execution_count": null,
   "metadata": {},
   "outputs": [],
   "source": [
    "import requests\n",
    "import json\n",
    "import uuid"
   ]
  },
  {
   "cell_type": "code",
   "execution_count": null,
   "metadata": {},
   "outputs": [],
   "source": [
    "# 是否只选每种类别的第一个（加速）\n",
    "flag = True\n",
    "\n",
    "# 选择座位\n",
    "libName = \"东馆2层\"\n",
    "typeName = \"交流空间（二层东）\"\n",
    "roomName = \"二层④区交流空间1排01组\"\n",
    "roomId = \"bca19acc7ae1497089ceee875925587e\"\n",
    "\n",
    "# 映射后账户密码\n",
    "account = \"4521D610DC9460D22004EC76E32BF7E1\"\n",
    "upass = \"6BED22231B81701E9F89F37B269CC290\""
   ]
  },
  {
   "cell_type": "code",
   "execution_count": null,
   "metadata": {},
   "outputs": [],
   "source": [
    "# 选择时间\n",
    "# 8点：480，9点：540，10点：600，11点：660，12点：720，13点：780，14点：840，15点：900，16点：960，17点：1020，18点：1080，19点：1140，20点：1200，21点：1260，22点：1320\n",
    "# 13点\n",
    "time1 = \"780\"\n",
    "# 17点\n",
    "time2 = \"1020\"\n",
    "# 21点\n",
    "time3 = \"1260\""
   ]
  },
  {
   "cell_type": "code",
   "execution_count": null,
   "metadata": {},
   "outputs": [],
   "source": [
    "# 生成UUID（非必须）\n",
    "ticketCode = str(uuid.uuid4()).replace('-','')\n",
    "print(\"ticketCode:\",ticketCode)"
   ]
  },
  {
   "cell_type": "code",
   "execution_count": null,
   "metadata": {},
   "outputs": [],
   "source": [
    "# 登录，获取基本信息\n",
    "headers = {\n",
    "    \"Host\":\"libwx.cau.edu.cn\",\n",
    "    \"User-Agent\":f\"Mozilla/5.0 (iPhone; CPU iPhone OS 16_6 like Mac OS X) AppleWebKit/605.1.15 (KHTML, like Gecko) Version/16.6 Mobile/15E148 Safari/604.1 Edg/119.0.0.0\",\n",
    "    \"Referer\":\"http://libwx.cau.edu.cn/remote/static/phoneloginHandler\"\n",
    "}\n",
    "params = {\n",
    "    'type':'discuss',\n",
    "    'openid':'',\n",
    "    'account':account,\n",
    "    'upass':upass,\n",
    "    'ticketCode':ticketCode,\n",
    "    'nickname':'',\n",
    "    'isFlag':'',\n",
    "    'headimgurl':'',\n",
    "    'sign':''\n",
    "}\n",
    "response = requests.get(\"http://libwx.cau.edu.cn/space/static/dowechatlogin?type=discuss\", headers=headers, params=params)\n",
    "cookie = response.request.headers['Cookie']\n",
    "libId = response.text[response.text.find(libName)-34:response.text.find(libName)-2]\n",
    "typeId = response.text[response.text.find(typeName)-78:response.text.find(typeName)-46]\n",
    "csrf = response.text[response.text.find(\"<meta name=\\\"_csrf\\\" content=\")+28:response.text.find(\"<meta name=\\\"_csrf\\\" content=\")+64]\n",
    "print('cookie:',cookie)\n",
    "print('libId:',libId)\n",
    "print('typeId:',typeId)\n",
    "print('csrf',csrf)"
   ]
  },
  {
   "cell_type": "code",
   "execution_count": null,
   "metadata": {},
   "outputs": [],
   "source": [
    "# 获取时间\n",
    "headers = {\n",
    "    \"Host\":\"libwx.cau.edu.cn\", \n",
    "    \"User-Agent\":f\"Mozilla/5.0 (iPhone; CPU iPhone OS 16_6 like Mac OS X) AppleWebKit/605.1.15 (KHTML, like Gecko) Version/16.6 Mobile/15E148 Safari/604.1 Edg/119.0.0.0\",\n",
    "    \"Referer\":\"http://libwx.cau.edu.cn/space/discuss/mobileIndex?type=discuss\",\n",
    "    \"X-Requested-With\":\"XMLHttpRequest\",\n",
    "    \"Cookie\":cookie\n",
    "}\n",
    "url = \"http://libwx.cau.edu.cn/space/discuss/getSelectDays/\" + typeId\n",
    "response = requests.get(url, headers=headers)\n",
    "today = json.loads(response.text)[\"params\"][\"days\"][0][\"day\"]\n",
    "print('today:', today)\n"
   ]
  },
  {
   "cell_type": "code",
   "execution_count": null,
   "metadata": {},
   "outputs": [],
   "source": [
    "# 获取座位\n",
    "headers = {\n",
    "    \"Host\":\"libwx.cau.edu.cn\",\n",
    "    \"Origin\":\"http://libwx.cau.edu.cn\",\n",
    "    \"Content-Length\":\"26\",\n",
    "    \"Content-Type\":\"application/x-www-form-urlencoded; charset=UTF-8\",\n",
    "    \"User-Agent\":f\"Mozilla/5.0 (iPhone; CPU iPhone OS 16_6 like Mac OS X) AppleWebKit/605.1.15 (KHTML, like Gecko) Version/16.6 Mobile/15E148 Safari/604.1 Edg/119.0.0.0\",\n",
    "    \"Referer\":\"http://libwx.cau.edu.cn/space/discuss/mobileIndex?type=discuss\",\n",
    "    \"X-Requested-With\":\"XMLHttpRequest\",\n",
    "    \"X-Csrf-Token\":csrf,\n",
    "    \"Cookie\":cookie\n",
    "}\n",
    "size = \"1\" if flag else \"100\"\n",
    "payload = {\n",
    "    \"currentPage\":\"1\",\n",
    "    \"pageSize\":size\n",
    "}\n",
    "url = \"http://libwx.cau.edu.cn/space/discuss/findRoom/\" + typeId + \"/\" + libId + \"/\" + today\n",
    "response = requests.post(url, headers=headers, data=payload)\n",
    "dict = json.loads(response.text)\n",
    "ruleId = dict[\"params\"][\"ruleId\"]\n",
    "print(\"ruleId:\",ruleId)\n",
    "print('roomId:', roomId)\n",
    "# for item in dict[\"params\"][\"rooms\"][\"pageList\"]:\n",
    "#     if item[\"rname\"] == roomName:\n",
    "#         roomId = item[\"id\"]\n",
    "#         print(\"roomId:\",roomId)\n",
    "#         break\n",
    "\n",
    "# 获取UUID\n",
    "headers = {\n",
    "    \"Host\":\"libwx.cau.edu.cn\", \n",
    "    \"User-Agent\":f\"Mozilla/5.0 (iPhone; CPU iPhone OS 16_6 like Mac OS X) AppleWebKit/605.1.15 (KHTML, like Gecko) Version/16.6 Mobile/15E148 Safari/604.1 Edg/119.0.0.0\",\n",
    "    \"Cookie\":cookie\n",
    "}\n",
    "params = {\n",
    "    \"roomid\":roomId,\n",
    "    \"ustime\":\"1260\",\n",
    "    \"uetime\":\"1320\",\n",
    "    \"selectDate\":today,\n",
    "    \"ruleId\":ruleId,\n",
    "    \"mobile\":\"true\",\n",
    "    \"linkSign\":\"discuss\"\n",
    "}\n",
    "response = requests.get(\"http://libwx.cau.edu.cn/space/discuss/openAppointDetail\", headers=headers, params=params)\n",
    "uuid_ = response.text[response.text.find(\"UUID\")+7:response.text.find(\"UUID\")+15]\n",
    "print(\"uuid:\",uuid_)"
   ]
  },
  {
   "cell_type": "code",
   "execution_count": null,
   "metadata": {},
   "outputs": [],
   "source": [
    "# today = '2024-03-21'\n",
    "print(today)"
   ]
  },
  {
   "cell_type": "code",
   "execution_count": null,
   "metadata": {},
   "outputs": [],
   "source": [
    "# 预定（可修改today）\n",
    "headers = {\n",
    "    \"Host\":\"libwx.cau.edu.cn\",\n",
    "    \"Origin\":\"http://libwx.cau.edu.cn\",\n",
    "    \"Content-Length\":\"261\",\n",
    "    \"Content-Type\":\"application/json\",\n",
    "    \"User-Agent\":f\"Mozilla/5.0 (iPhone; CPU iPhone OS 16_6 like Mac OS X) AppleWebKit/605.1.15 (KHTML, like Gecko) Version/16.6 Mobile/15E148 Safari/604.1 Edg/119.0.0.0\",\n",
    "    \"X-Requested-With\":\"XMLHttpRequest\",\n",
    "    \"X-Csrf-Token\":csrf,\n",
    "    \"Cookie\":cookie\n",
    "}\n",
    "payload = {\n",
    "    \"LOCK\":\"true\",\n",
    "    \"UUID\":uuid_,\n",
    "    \"room_exp\":\"[]\",\n",
    "    \"ruleId\":ruleId,\n",
    "    \"usercount\":\"2\",\n",
    "    \"users\":\"2020308250121 2020308130408\",\n",
    "    \"_currentday\":today,\n",
    "    \"_stime\":1260,\n",
    "    \"_etime\":1320,\n",
    "    \"_roomid\":roomId,\n",
    "    \"_seatno\":\"0\"\n",
    "}\n",
    "response = requests.post(\"http://libwx.cau.edu.cn/space/form/dynamic/saveFormLock\", headers=headers, json=payload)\n",
    "print(\"预定1：\", json.loads(response.text))"
   ]
  }
 ],
 "metadata": {
  "kernelspec": {
   "display_name": "Python 3",
   "language": "python",
   "name": "python3"
  },
  "language_info": {
   "codemirror_mode": {
    "name": "ipython",
    "version": 3
   },
   "file_extension": ".py",
   "mimetype": "text/x-python",
   "name": "python",
   "nbconvert_exporter": "python",
   "pygments_lexer": "ipython3",
   "version": "3.11.4"
  }
 },
 "nbformat": 4,
 "nbformat_minor": 2
}
